{
  "cells": [
    {
      "cell_type": "markdown",
      "metadata": {
        "id": "view-in-github",
        "colab_type": "text"
      },
      "source": [
        "<a href=\"https://colab.research.google.com/github/bronfreeman/COSY/blob/main/ICD10-11mapping.ipynb\" target=\"_parent\"><img src=\"https://colab.research.google.com/assets/colab-badge.svg\" alt=\"Open In Colab\"/></a>"
      ]
    },
    {
      "cell_type": "code",
      "source": [
        "import pandas as pd\n",
        "\n",
        "class ICDConverter:\n",
        "    def __init__(self, excel_file_path):\n",
        "\n",
        "        df = pd.read_excel(excel_file_path)\n",
        "\n",
        "\n",
        "        self.icd_10_dataset = dict(zip(df['icd10Code'], df['icd10Title']))\n",
        "        self.icd_11_dataset = dict(zip(df['icd11Code'], df['icd11Title']))\n",
        "\n",
        "    def convert_icd_10_to_icd_11(self, icd_10_code):\n",
        "        icd_11_code = self.icd_10_dataset.get(icd_10_code)\n",
        "        if icd_11_code:\n",
        "            return icd_11_code\n",
        "        else:\n",
        "            return \"ICD-11 code not found for the given ICD-10 code.\"\n",
        "\n",
        "\n",
        "if __name__ == \"__main__\":\n",
        "\n",
        "    excel_file_name = \"11To10MapToOneCategory.xlsx\"\n",
        "    excel_file_path = excel_file_name\n",
        "\n",
        "\n",
        "    icd_converter = ICDConverter(excel_file_path)\n",
        "\n",
        "\n",
        "    user_icd_10_code = input(\"Enter an ICD-10 code: \")\n",
        "\n",
        "\n",
        "    icd_11_result = icd_converter.convert_icd_10_to_icd_11(user_icd_10_code)\n",
        "\n",
        "\n",
        "    print(icd_11_result)\n"
      ],
      "metadata": {
        "id": "eelYpgwd5hkG",
        "outputId": "3fbb58cf-c958-468f-821a-e1762e1158e7",
        "colab": {
          "base_uri": "https://localhost:8080/"
        }
      },
      "execution_count": 5,
      "outputs": [
        {
          "output_type": "stream",
          "name": "stdout",
          "text": [
            "Enter an ICD-10 code: I10\n",
            "Essential (primary) hypertension\n"
          ]
        }
      ]
    },
    {
      "cell_type": "code",
      "source": [
        "import pandas as pd\n",
        "\n",
        "class ICDConverter:\n",
        "    def __init__(self, excel_file_path):\n",
        "        # Load the Excel file into a DataFrame\n",
        "        df = pd.read_excel(excel_file_path)\n",
        "\n",
        "        # Create a DataFrame with ICD-10 and corresponding ICD-11 code mappings\n",
        "        self.icd_mapping_df = df[['icd10Code', 'icd11Code']]\n",
        "\n",
        "        # Create a DataFrame with ICD-11 and corresponding title mappings\n",
        "        self.title_mapping_df = df[['icd11Code', 'icd11Title']]\n",
        "\n",
        "        # Create a dictionary where keys are ICD-10 codes and values are lists of corresponding ICD-11 codes\n",
        "        self.icd_10_to_icd_11_dict = self.icd_mapping_df.groupby('icd10Code')['icd11Code'].apply(list).to_dict()\n",
        "\n",
        "    def convert_icd_10_to_icd_11_with_titles(self, icd_10_code):\n",
        "        icd_11_codes = self.icd_10_to_icd_11_dict.get(icd_10_code, [])\n",
        "        titles = []\n",
        "\n",
        "        for icd_11_code in icd_11_codes:\n",
        "            title_row = self.title_mapping_df[self.title_mapping_df['icd11Code'] == icd_11_code]\n",
        "            if not title_row.empty:\n",
        "                title = title_row['icd11Title'].iloc[0]\n",
        "                titles.append(title if not pd.isna(title) else f\"Title not found for {icd_11_code}\")\n",
        "            else:\n",
        "                titles.append(f\"Title not found for {icd_11_code}\")\n",
        "\n",
        "        return icd_11_codes, titles\n",
        "\n",
        "# Example of using the ICDConverter class\n",
        "if __name__ == \"__main__\":\n",
        "    # Provide the name of your Excel file (assuming it's in the same directory as your script)\n",
        "    excel_file_name = \"11To10MapToOneCategory.xlsx\"\n",
        "    excel_file_path = excel_file_name\n",
        "\n",
        "    # Create an instance of ICDConverter\n",
        "    icd_converter = ICDConverter(excel_file_path)\n",
        "\n",
        "    # User input for ICD-10 code\n",
        "    user_icd_10_code = input(\"Enter an ICD-10 code: \")\n",
        "\n",
        "    # Convert ICD-10 to multiple ICD-11 options with titles\n",
        "    icd_11_results, titles = icd_converter.convert_icd_10_to_icd_11_with_titles(user_icd_10_code)\n",
        "\n",
        "    # Display the results\n",
        "    print(\"\\nICD-11 Codes and Titles:\")\n",
        "    for icd_11_code, title in zip(icd_11_results, titles):\n",
        "        print(f\"{icd_11_code} - {title}\")\n",
        "\n",
        "\n"
      ],
      "metadata": {
        "colab": {
          "base_uri": "https://localhost:8080/"
        },
        "id": "3QGisO_773XI",
        "outputId": "541c2490-5367-4d68-a411-50a2ec2d9f3f"
      },
      "execution_count": 17,
      "outputs": [
        {
          "output_type": "stream",
          "name": "stdout",
          "text": [
            "Enter an ICD-10 code: R52\n",
            "\n",
            "ICD-11 Codes and Titles:\n",
            "nan - Title not found for nan\n",
            "MG30 - Chronic pain\n",
            "MG30.0 - Chronic primary pain\n",
            "MG30.00 - Chronic primary visceral pain\n",
            "MG30.01 - Chronic widespread pain\n",
            "MG30.02 - Chronic primary musculoskeletal pain\n",
            "MG30.03 - Chronic primary headache or orofacial pain\n",
            "MG30.0Y - Other specified chronic primary pain\n",
            "MG30.0Z - Chronic primary pain, unspecified\n",
            "MG30.1 - Chronic cancer related pain\n",
            "MG30.10 - Chronic cancer pain\n",
            "MG30.11 - Chronic post cancer treatment pain\n",
            "MG30.1Y - Other specified chronic cancer related pain\n",
            "MG30.1Z - Chronic cancer related pain, unspecified\n",
            "MG30.2 - Chronic postsurgical or post traumatic pain\n",
            "MG30.20 - Chronic post traumatic pain\n",
            "MG30.21 - Chronic postsurgical pain\n",
            "MG30.2Y - Other specified chronic postsurgical or post traumatic pain\n",
            "MG30.2Z - Chronic postsurgical or post traumatic pain, unspecified\n",
            "MG30.3 - Chronic secondary musculoskeletal pain\n",
            "MG30.30 - Chronic secondary musculoskeletal pain from persistent inflammation\n",
            "MG30.31 - Chronic secondary musculoskeletal pain associated with structural changes\n",
            "MG30.32 - Chronic secondary musculoskeletal pain due to disease of the nervous system\n",
            "MG30.3Y - Other specified chronic secondary musculoskeletal pain\n",
            "MG30.3Z - Chronic secondary musculoskeletal pain, unspecified\n",
            "MG30.4 - Chronic secondary visceral pain\n",
            "MG30.40 - Chronic visceral pain from mechanical factors\n",
            "MG30.41 - Chronic visceral pain from vascular mechanisms\n",
            "MG30.42 - Chronic visceral pain from persistent inflammation\n",
            "MG30.4Y - Other specified chronic secondary visceral pain\n",
            "MG30.4Z - Chronic secondary visceral pain, unspecified\n",
            "MG30.5 - Chronic neuropathic pain\n",
            "MG30.50 - Chronic central neuropathic pain\n",
            "MG30.51 - Chronic peripheral neuropathic pain\n",
            "MG30.5Y - Other specified chronic neuropathic pain\n",
            "MG30.5Z - Chronic neuropathic pain, unspecified\n",
            "MG30.6 - Chronic secondary headache or orofacial pain\n",
            "MG30.61 - Chronic dental pain\n",
            "MG30.62 - Chronic neuropathic orofacial pain\n",
            "MG30.63 - Headache or orofacial pain associated with chronic secondary temporomandibular disorders\n",
            "MG30.64 - Chronic headache or orofacial pain associated with disorders of homoeostasis or their nonpharmacological treatment\n",
            "MG30.65 - Chronic headache or orofacial pain associated with cranial or cervical vascular disorder\n",
            "MG30.66 - Chronic headache or orofacial pain associated with non-vascular intracranial disorder\n",
            "MG30.67 - Chronic headache associated with a substance or its withdrawal\n",
            "MG30.6Y - Other specified chronic secondary headache or orofacial pain\n",
            "MG30.6Z - Chronic secondary headache or orofacial pain, unspecified\n",
            "MG30.Y - Other specified chronic pain\n",
            "MG30.Z - Chronic pain, unspecified\n",
            "MG3Z - Pain, unspecified\n"
          ]
        }
      ]
    }
  ],
  "metadata": {
    "colab": {
      "name": "Welcome To Colaboratory",
      "provenance": [],
      "include_colab_link": true
    },
    "kernelspec": {
      "display_name": "Python 3",
      "name": "python3"
    }
  },
  "nbformat": 4,
  "nbformat_minor": 0
}